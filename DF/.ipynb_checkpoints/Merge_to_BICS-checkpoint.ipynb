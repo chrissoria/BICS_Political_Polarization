{
 "cells": [
  {
   "cell_type": "code",
   "execution_count": 1,
   "id": "935059a2",
   "metadata": {},
   "outputs": [],
   "source": [
    "import pandas as pd\n",
    "import numpy as np\n",
    "import os"
   ]
  },
  {
   "cell_type": "code",
   "execution_count": 2,
   "id": "d27e7345",
   "metadata": {},
   "outputs": [],
   "source": [
    "os.chdir('/Users/chrissoria/Documents/Research/BICS_Political_Polarization/')"
   ]
  },
  {
   "cell_type": "markdown",
   "id": "153a6a01",
   "metadata": {},
   "source": [
    "For this preliminary analysis, I will only use wave 2,4,6. \\\n",
    "Each wave's data was collected on 2020-06-17 - 2020-06-23, 2020-11-29 - 2020-12-16, 2021-05-12 - 2021-05-25."
   ]
  },
  {
   "cell_type": "code",
   "execution_count": 3,
   "id": "fb94ed27",
   "metadata": {},
   "outputs": [
    {
     "name": "stderr",
     "output_type": "stream",
     "text": [
      "/var/folders/89/6bdxzk2j30v5n3wstywbcpg80000gn/T/ipykernel_82849/808921033.py:6: DtypeWarning: Columns (84) have mixed types. Specify dtype option on import or set low_memory=False.\n",
      "  df_w6 = pd.read_csv('/Users/chrissoria/Documents/Research/BICS/data/national_wave6_unweighted.csv')\n"
     ]
    }
   ],
   "source": [
    "df_w1 = pd.read_csv('/Users/chrissoria/Documents/Research/BICS/data/national_wave1_unweighted.csv')\n",
    "df_w2 = pd.read_csv('/Users/chrissoria/Documents/Research/BICS/data/national_wave2_unweighted.csv')\n",
    "df_w3 = pd.read_csv('/Users/chrissoria/Documents/Research/BICS/data/national_wave3_unweighted.csv')\n",
    "df_w4 = pd.read_csv('/Users/chrissoria/Documents/Research/BICS/data/national_wave4_unweighted.csv')\n",
    "df_w5 = pd.read_csv('/Users/chrissoria/Documents/Research/BICS/data/national_wave5_unweighted.csv')\n",
    "df_w6 = pd.read_csv('/Users/chrissoria/Documents/Research/BICS/data/national_wave6_unweighted.csv')"
   ]
  },
  {
   "cell_type": "code",
   "execution_count": 4,
   "id": "e280963c",
   "metadata": {},
   "outputs": [],
   "source": [
    "if \"resp_employ\" in df_w2.columns:\n",
    "    df_w2[\"resp_employ\"] = df_w2[\"resp_employ\"].astype(str)\n",
    "\n",
    "if \"resp_employ\" in df_w3.columns:\n",
    "    df_w3[\"resp_employ\"] = df_w3[\"resp_employ\"].astype(str)    \n",
    "    \n",
    "if \"resp_employ\" in df_w4.columns:\n",
    "    df_w4[\"resp_employ\"] = df_w4[\"resp_employ\"].astype(str)\n",
    "    \n",
    "if \"resp_employ\" in df_w5.columns:\n",
    "    df_w5[\"resp_employ\"] = df_w5[\"resp_employ\"].astype(str)\n",
    "\n",
    "if \"resp_employ\" in df_w6.columns:\n",
    "    df_w6[\"resp_employ\"] = df_w6[\"resp_employ\"].astype(str)\n",
    "    \n",
    "df_w2['resp_occupation'] = df_w2['resp_occupation'].astype(str)\n",
    "df_w4['resp_occupation'] = df_w4['resp_occupation'].astype(str)\n",
    "\n",
    "df_combined = pd.concat([df_w2, df_w3, df_w4, df_w5, df_w6], ignore_index=True)"
   ]
  },
  {
   "cell_type": "markdown",
   "id": "5171f5e0",
   "metadata": {},
   "source": [
    "Below I'm converting the waves into date ranges"
   ]
  },
  {
   "cell_type": "code",
   "execution_count": 5,
   "id": "dc2b887e",
   "metadata": {},
   "outputs": [
    {
     "name": "stdout",
     "output_type": "stream",
     "text": [
      "Index(['StartDate', 'EndDate', 'Status', 'Progress', 'Duration (in seconds)',\n",
      "       'Finished', 'RecordedDate', 'ResponseId', 'DistributionChannel',\n",
      "       'UserLanguage',\n",
      "       ...\n",
      "       'orig_education', 'w_educ', 'w_urbanrural', 'w_urbanrural2',\n",
      "       'estimated_county_fips', 'estimated_county', 'estimated_state',\n",
      "       'resp_hhsize_text', 'resp_hhsize_raw', 'resp_hhsize_topcode_val'],\n",
      "      dtype='object', length=165)\n"
     ]
    }
   ],
   "source": [
    "print(df_w2.columns)"
   ]
  },
  {
   "cell_type": "code",
   "execution_count": 6,
   "id": "d4b9b9b4",
   "metadata": {},
   "outputs": [
    {
     "name": "stdout",
     "output_type": "stream",
     "text": [
      "interview_date\n",
      "2021-05-22    438\n",
      "2021-05-23    432\n",
      "2021-05-15    426\n",
      "2021-05-16    426\n",
      "2021-05-18    420\n",
      "2021-05-19    418\n",
      "2021-05-25    417\n",
      "2021-05-17    415\n",
      "2021-05-21    415\n",
      "2021-05-24    407\n",
      "2021-05-14    399\n",
      "2021-05-13    396\n",
      "2021-05-20    392\n",
      "2021-05-26     17\n",
      "Name: count, dtype: int64\n"
     ]
    }
   ],
   "source": [
    "print(df_w6['interview_date'].value_counts())"
   ]
  },
  {
   "cell_type": "code",
   "execution_count": 7,
   "id": "e754ccef",
   "metadata": {},
   "outputs": [
    {
     "name": "stderr",
     "output_type": "stream",
     "text": [
      "/var/folders/89/6bdxzk2j30v5n3wstywbcpg80000gn/T/ipykernel_82849/1458976774.py:1: PerformanceWarning: DataFrame is highly fragmented.  This is usually the result of calling `frame.insert` many times, which has poor performance.  Consider joining all columns at once using pd.concat(axis=1) instead. To get a de-fragmented frame, use `newframe = frame.copy()`\n",
      "  df_combined['data_collected_dates'] = df_combined.apply(lambda row: \"June 18-24, '20\" if row['wave'] == 2\n"
     ]
    }
   ],
   "source": [
    "df_combined['data_collected_dates'] = df_combined.apply(lambda row: \"June 18-24, '20\" if row['wave'] == 2\n",
    "                                                       else \"September 12-20, '20'\" if row['wave'] == 3\n",
    "                                                       else \"December 1-7, '20'\" if row['wave'] == 4\n",
    "                                                       else \"February 9-14, '21'\" if row['wave'] == 5\n",
    "                                                       else \"May 14-25, '21'\" if row['wave'] == 6\n",
    "                                                        else np.nan, axis = 1)"
   ]
  },
  {
   "cell_type": "code",
   "execution_count": 8,
   "id": "786cc119",
   "metadata": {},
   "outputs": [
    {
     "name": "stdout",
     "output_type": "stream",
     "text": [
      "data_collected_dates\n",
      "May 14-25, '21'          5418\n",
      "September 12-20, '20'    3248\n",
      "December 1-7, '20'       2993\n",
      "February 9-14, '21'      2976\n",
      "June 18-24, '20          2432\n",
      "Name: count, dtype: int64\n",
      "wave\n",
      "6    5418\n",
      "3    3248\n",
      "4    2993\n",
      "5    2976\n",
      "2    2432\n",
      "Name: count, dtype: int64\n"
     ]
    }
   ],
   "source": [
    "print(df_combined['data_collected_dates'].value_counts())\n",
    "print(df_combined['wave'].value_counts())"
   ]
  },
  {
   "cell_type": "markdown",
   "id": "f5caff25",
   "metadata": {},
   "source": [
    "We're missing a \"conservative\" but we have two moderates?"
   ]
  },
  {
   "cell_type": "code",
   "execution_count": 9,
   "id": "b2fe07eb",
   "metadata": {},
   "outputs": [
    {
     "name": "stderr",
     "output_type": "stream",
     "text": [
      "/var/folders/89/6bdxzk2j30v5n3wstywbcpg80000gn/T/ipykernel_82849/2967877890.py:12: PerformanceWarning: DataFrame is highly fragmented.  This is usually the result of calling `frame.insert` many times, which has poor performance.  Consider joining all columns at once using pd.concat(axis=1) instead. To get a de-fragmented frame, use `newframe = frame.copy()`\n",
      "  df_combined['political_view_numeric'] = df_combined['political_view'].replace(political_view_mapping)\n"
     ]
    },
    {
     "data": {
      "text/plain": [
       "political_view\n",
       "Moderate                  4542\n",
       "Liberal                   2695\n",
       "Slightly conservative     2277\n",
       "Extremely liberal         2262\n",
       "Extremely conservative    2021\n",
       "Middle of the road        1779\n",
       "Slightly liberal          1491\n",
       "Name: count, dtype: int64"
      ]
     },
     "execution_count": 9,
     "metadata": {},
     "output_type": "execute_result"
    }
   ],
   "source": [
    "political_view_mapping = {\n",
    "    'Extremely conservative': 1,\n",
    "    'Slightly conservative': 2,\n",
    "    'Moderate': 3,\n",
    "    'Middle of the road': 3,\n",
    "    'Slightly liberal': 4,\n",
    "    'Liberal': 5,\n",
    "    'Extremely liberal': 6\n",
    "}\n",
    "\n",
    "# Creating a new variable 'political_view_numeric' by mapping the 'political_view' column using the defined mapping\n",
    "df_combined['political_view_numeric'] = df_combined['political_view'].replace(political_view_mapping)\n",
    "\n",
    "df_combined['political_view'].value_counts()"
   ]
  },
  {
   "cell_type": "code",
   "execution_count": 10,
   "id": "6255062a",
   "metadata": {
    "scrolled": true
   },
   "outputs": [
    {
     "name": "stderr",
     "output_type": "stream",
     "text": [
      "/var/folders/89/6bdxzk2j30v5n3wstywbcpg80000gn/T/ipykernel_82849/3210909615.py:12: PerformanceWarning: DataFrame is highly fragmented.  This is usually the result of calling `frame.insert` many times, which has poor performance.  Consider joining all columns at once using pd.concat(axis=1) instead. To get a de-fragmented frame, use `newframe = frame.copy()`\n",
      "  df_combined['educ_group'] = df_combined.apply(categorize_education, axis=1)\n",
      "/var/folders/89/6bdxzk2j30v5n3wstywbcpg80000gn/T/ipykernel_82849/3210909615.py:30: PerformanceWarning: DataFrame is highly fragmented.  This is usually the result of calling `frame.insert` many times, which has poor performance.  Consider joining all columns at once using pd.concat(axis=1) instead. To get a de-fragmented frame, use `newframe = frame.copy()`\n",
      "  df_combined['r_race'] = df_combined.apply(categorize_race, axis=1)\n"
     ]
    },
    {
     "name": "stdout",
     "output_type": "stream",
     "text": [
      "r_race\n",
      "White            13226\n",
      "Black             1882\n",
      "Asian             1180\n",
      "Other / Mixed      779\n",
      "Name: count, dtype: int64\n",
      "r_working\n",
      "Working        11372\n",
      "Not Working     5695\n",
      "Name: count, dtype: int64\n"
     ]
    },
    {
     "name": "stderr",
     "output_type": "stream",
     "text": [
      "/var/folders/89/6bdxzk2j30v5n3wstywbcpg80000gn/T/ipykernel_82849/3210909615.py:39: PerformanceWarning: DataFrame is highly fragmented.  This is usually the result of calling `frame.insert` many times, which has poor performance.  Consider joining all columns at once using pd.concat(axis=1) instead. To get a de-fragmented frame, use `newframe = frame.copy()`\n",
      "  df_combined['r_working'] = np.where(df_combined['industry'] == \"I don't work\", \"Not Working\", \"Working\")\n"
     ]
    }
   ],
   "source": [
    "#education variable\n",
    "def categorize_education(row):\n",
    "    if row['resp_educ'] == \"Less than high school degree\":\n",
    "        return \"Less than high school\"\n",
    "    elif row['resp_educ'] in [\"High school graduate (high school diploma or equivalent including GED)\", \"Some college but no degree\", \"Associate degree in college (2-year)\"]:\n",
    "        return \"High school graduate\"\n",
    "    elif row['resp_educ'] in [\"Bachelor's degree in college (4-year)\", \"Master's degree\", \"Doctoral degree\", \"Professional degree (JD, MD)\"]:\n",
    "        return \"College graduate and above\"\n",
    "    else:\n",
    "        return \"Unknown\"\n",
    "\n",
    "df_combined['educ_group'] = df_combined.apply(categorize_education, axis=1)\n",
    "\n",
    "df_combined['educ_group'].value_counts(dropna=False)\n",
    "\n",
    "race_columns = [col for col in df_combined.columns if col.startswith('resp_race_')]\n",
    "df_combined[race_columns] = df_combined[race_columns].fillna(0)\n",
    "\n",
    "#race variable\n",
    "def categorize_race(row):\n",
    "    if row['resp_race_1'] == \"White\":\n",
    "        return \"White\"\n",
    "    elif row['resp_race_2'] == \"Black or African American\":\n",
    "        return \"Black\"\n",
    "    elif row['resp_race_4'] == \"Asian\":\n",
    "        return \"Asian\"\n",
    "    else:\n",
    "        return \"Other / Mixed\"\n",
    "\n",
    "df_combined['r_race'] = df_combined.apply(categorize_race, axis=1)\n",
    "\n",
    "print(df_combined['r_race'].value_counts(dropna=False))\n",
    "\n",
    "#employment variable\n",
    "employment_columns = [col for col in df_combined.columns if col.startswith('resp_employ_')]\n",
    "df_combined[employment_columns] = df_combined[employment_columns].fillna(0)\n",
    "\n",
    "# Create the 'r_working' var based whether reported\n",
    "df_combined['r_working'] = np.where(df_combined['industry'] == \"I don't work\", \"Not Working\", \"Working\")\n",
    "\n",
    "print(df_combined['r_working'].value_counts(dropna=False))"
   ]
  },
  {
   "cell_type": "markdown",
   "id": "3e81b74c",
   "metadata": {},
   "source": [
    "dependent variable for concern"
   ]
  },
  {
   "cell_type": "code",
   "execution_count": 11,
   "id": "6cb25eda",
   "metadata": {},
   "outputs": [
    {
     "name": "stderr",
     "output_type": "stream",
     "text": [
      "/var/folders/89/6bdxzk2j30v5n3wstywbcpg80000gn/T/ipykernel_82849/3902376750.py:1: PerformanceWarning: DataFrame is highly fragmented.  This is usually the result of calling `frame.insert` many times, which has poor performance.  Consider joining all columns at once using pd.concat(axis=1) instead. To get a de-fragmented frame, use `newframe = frame.copy()`\n",
      "  df_combined['binary_concern'] = df_combined['covid19_concern'].apply(\n",
      "/var/folders/89/6bdxzk2j30v5n3wstywbcpg80000gn/T/ipykernel_82849/3902376750.py:5: PerformanceWarning: DataFrame is highly fragmented.  This is usually the result of calling `frame.insert` many times, which has poor performance.  Consider joining all columns at once using pd.concat(axis=1) instead. To get a de-fragmented frame, use `newframe = frame.copy()`\n",
      "  df_combined['binary_concern_strong'] = df_combined['covid19_concern'].apply(\n",
      "/var/folders/89/6bdxzk2j30v5n3wstywbcpg80000gn/T/ipykernel_82849/3902376750.py:9: PerformanceWarning: DataFrame is highly fragmented.  This is usually the result of calling `frame.insert` many times, which has poor performance.  Consider joining all columns at once using pd.concat(axis=1) instead. To get a de-fragmented frame, use `newframe = frame.copy()`\n",
      "  df_combined['contact_reduction'] = df_combined['covid19_f2fchange'].apply(\n"
     ]
    }
   ],
   "source": [
    "df_combined['binary_concern'] = df_combined['covid19_concern'].apply(\n",
    "    lambda x: 1 if x in [\"Somewhat concerned\", \"Very concerned\"] else (0 if pd.notna(x) else None)\n",
    ")\n",
    "\n",
    "df_combined['binary_concern_strong'] = df_combined['covid19_concern'].apply(\n",
    "    lambda x: 1 if x == \"Very concerned\" else (0 if pd.notna(x) else None)\n",
    ")\n",
    "\n",
    "df_combined['contact_reduction'] = df_combined['covid19_f2fchange'].apply(\n",
    "    lambda x: 1 if x == \"I have greatly reduced face-to-face interaction with others\" else (0 if pd.notna(x) else None)\n",
    ")"
   ]
  },
  {
   "cell_type": "markdown",
   "id": "e7717bfb",
   "metadata": {},
   "source": [
    "reading in the alter file"
   ]
  },
  {
   "cell_type": "code",
   "execution_count": 12,
   "id": "d96c493c",
   "metadata": {},
   "outputs": [],
   "source": [
    "df_w2_nonhhalters = pd.read_csv(\"/Users/chrissoria/documents/research/BICs/data/national_alters_nonhh_wave2_unweighted.csv\")\n",
    "df_w3_nonhhalters = pd.read_csv(\"/Users/chrissoria/documents/research/BICs/data/national_alters_nonhh_wave3_unweighted.csv\")\n",
    "df_w4_nonhhalters = pd.read_csv(\"/Users/chrissoria/documents/research/BICs/data/national_alters_nonhh_wave4_unweighted.csv\")\n",
    "df_w5_nonhhalters = pd.read_csv(\"/Users/chrissoria/documents/research/BICs/data/national_alters_nonhh_wave5_unweighted.csv\")\n",
    "df_w6_nonhhalters = pd.read_csv(\"/Users/chrissoria/documents/research/BICs/data/national_alters_nonhh_wave6_unweighted.csv\")\n",
    "\n",
    "df_alters_combined = pd.concat([df_w2_nonhhalters, df_w3_nonhhalters, df_w4_nonhhalters, df_w5_nonhhalters, df_w6_nonhhalters], ignore_index=True)"
   ]
  },
  {
   "cell_type": "markdown",
   "id": "485215fe",
   "metadata": {},
   "source": [
    "what is num_cc_nonhh? \\\n",
    "Should I use this or how many reported contacts?"
   ]
  },
  {
   "cell_type": "code",
   "execution_count": 13,
   "id": "230348e6",
   "metadata": {},
   "outputs": [],
   "source": [
    "# Create binary indicators for mask, gloves, and other protective equipment usage\n",
    "df_alters_combined['Mask_Used'] = (\n",
    "    ((df_alters_combined['protection_1'] == \"Wear a face mask\") |\n",
    "    (df_alters_combined['protection_2'] == \"Wear a face mask\") |\n",
    "    (df_alters_combined['protection_3'] == \"Wear a face mask\") |\n",
    "    (df_alters_combined['protection_4'] == \"Wear a face mask\")).astype(int)\n",
    ")\n",
    "\n",
    "df_alters_combined['Gloves_Used'] = (\n",
    "    ((df_alters_combined['protection_1'] == \"Wear gloves\") |\n",
    "    (df_alters_combined['protection_2'] == \"Wear gloves\") |\n",
    "    (df_alters_combined['protection_3'] == \"Wear gloves\") |\n",
    "    (df_alters_combined['protection_4'] == \"Wear gloves\")).astype(int)\n",
    ")\n",
    "\n",
    "df_alters_combined['Other_Protective_Equipment_Used'] = (\n",
    "    ((df_alters_combined['protection_1'] == \"Wear other protective equipment\") |\n",
    "    (df_alters_combined['protection_2'] == \"Wear other protective equipment\") |\n",
    "    (df_alters_combined['protection_3'] == \"Wear other protective equipment\") |\n",
    "    (df_alters_combined['protection_4'] == \"Wear other protective equipment\")).astype(int)\n",
    ")\n",
    "\n",
    "# Aggregate these indicators at the 'rid' level\n",
    "df_aggregated = df_alters_combined.groupby('rid').agg(\n",
    "    Total_Masks_Used=('Mask_Used', 'sum'),\n",
    "    Total_Gloves_Used=('Gloves_Used', 'sum'),\n",
    "    Total_Other_Protective_Equipment_Used=('Other_Protective_Equipment_Used', 'sum'),\n",
    "    Contacts=('rid', 'size')\n",
    ").reset_index()\n",
    "\n",
    "# Normalize the counts by the number of contacts\n",
    "df_aggregated['Norm_Masks_Used'] = df_aggregated['Total_Masks_Used'] / df_aggregated['Contacts']\n",
    "df_aggregated['Norm_Gloves_Used'] = df_aggregated['Total_Gloves_Used'] / df_aggregated['Contacts']\n",
    "df_aggregated['Norm_Other_Protective_Equipment_Used'] = df_aggregated['Total_Other_Protective_Equipment_Used'] / df_aggregated['Contacts']\n",
    "\n",
    "# Calculate non-weighted and weighted safety indices\n",
    "df_aggregated['Non_Weighted_Safety_Index'] = (\n",
    "    df_aggregated['Norm_Masks_Used'] + \n",
    "    df_aggregated['Norm_Gloves_Used'] + \n",
    "    df_aggregated['Norm_Other_Protective_Equipment_Used']\n",
    ") / 3\n",
    "\n",
    "df_aggregated['Weighted_Safety_Index'] = (\n",
    "    df_aggregated['Norm_Masks_Used'] + \n",
    "    df_aggregated['Norm_Gloves_Used'] + \n",
    "    df_aggregated['Norm_Other_Protective_Equipment_Used']\n",
    ") / (3 * df_aggregated['Contacts'])"
   ]
  },
  {
   "cell_type": "code",
   "execution_count": 14,
   "id": "e77daca9",
   "metadata": {},
   "outputs": [],
   "source": [
    "df_combined_contacts = pd.merge(df_combined, df_aggregated, on = \"rid\", how = \"left\")"
   ]
  },
  {
   "cell_type": "code",
   "execution_count": 15,
   "id": "2b7a6f54",
   "metadata": {},
   "outputs": [
    {
     "data": {
      "text/plain": [
       "wave\n",
       "6    5418\n",
       "3    3248\n",
       "4    2993\n",
       "5    2976\n",
       "2    2432\n",
       "Name: count, dtype: int64"
      ]
     },
     "execution_count": 15,
     "metadata": {},
     "output_type": "execute_result"
    }
   ],
   "source": [
    "df_combined_contacts['wave'].value_counts()"
   ]
  },
  {
   "cell_type": "code",
   "execution_count": 16,
   "id": "5e64516b",
   "metadata": {},
   "outputs": [
    {
     "data": {
      "text/plain": [
       "political_party\n",
       "Democrat                7361\n",
       "Republican              4814\n",
       "Independent             3968\n",
       "Prefer not to answer     924\n",
       "Name: count, dtype: int64"
      ]
     },
     "execution_count": 16,
     "metadata": {},
     "output_type": "execute_result"
    }
   ],
   "source": [
    "df_combined_contacts['political_party'].value_counts()"
   ]
  },
  {
   "cell_type": "code",
   "execution_count": 17,
   "id": "82cb9bed",
   "metadata": {},
   "outputs": [],
   "source": [
    "df_combined_contacts.to_csv('data/BICS_ego_alters_merged.csv', index = False)"
   ]
  },
  {
   "cell_type": "code",
   "execution_count": 18,
   "id": "60c1ab6e",
   "metadata": {},
   "outputs": [],
   "source": [
    "col_types = {\n",
    "    'ZIP': str,\n",
    "    'CD':str,\n",
    "    'COUNTY_FIPS':str,\n",
    "    'STATE_FIPS':str,\n",
    "    'CONGRESSPERSON_PARTY': str\n",
    "}\n",
    "\n",
    "ZIP_FEATURES = pd.read_csv('/Users/chrissoria/Documents/Research/BICS_Political_Polarization/data/ZIP_Features.csv',\n",
    "                          dtype=col_types)"
   ]
  },
  {
   "cell_type": "code",
   "execution_count": 19,
   "id": "05fbda53",
   "metadata": {},
   "outputs": [
    {
     "data": {
      "text/plain": [
       "political_party\n",
       "Democrat                7361\n",
       "Republican              4814\n",
       "Independent             3968\n",
       "Prefer not to answer     924\n",
       "Name: count, dtype: int64"
      ]
     },
     "execution_count": 19,
     "metadata": {},
     "output_type": "execute_result"
    }
   ],
   "source": [
    "col_types = {\n",
    "    'resp_zip': str,\n",
    "    'political_party': str\n",
    "}\n",
    "\n",
    "all_waves = df_combined_contacts\n",
    "\n",
    "all_waves = all_waves.rename(columns={\n",
    "    'resp_zip': 'ZIP'\n",
    "})\n",
    "\n",
    "columns_to_keep = ['ResponseId','StartDate','resp_yob','resp_sex','resp_hispanic','r_race','resp_nativity','ZIP',\n",
    "                  'resp_hhsize','r_working','resp_occupation','lefthome_num','num_cc_nonhh',\n",
    "                  'lefthome_where_1','lefthome_where_2','lefthome_where_3','lefthome_where_4','lefthome_where_10',\n",
    "                  'lefthome_where_8','lefthome_where_9','lefthome_where_5','lefthome_where_11','lefthome_where_6',\n",
    "                  'lefthome_where_7','inet_freq','socmedia_use','covid19_familiar','covid19_concern',\n",
    "                  'covid19_f2fchange','covid19_reduceOK','policy_sip','age','hhi','political_party','political_view',\n",
    "                  'industry','health_insurance','interview_date','wave','agecat','city','covid19_vax','covid19_whynot_vax',\n",
    "                  'Non_Weighted_Safety_Index','Weighted_Safety_Index','Norm_Masks_Used','educ_group','contact_reduction',\n",
    "                  'binary_concern','binary_concern_strong','resp_educ','resp_sex','Contacts','Non_Weighted_Safety_Index',\n",
    "                  'Weighted_Safety_Index','data_collected_dates']\n",
    "all_waves = all_waves[columns_to_keep]\n",
    "\n",
    "all_waves['political_party'].value_counts()"
   ]
  },
  {
   "cell_type": "code",
   "execution_count": 20,
   "id": "2692791d",
   "metadata": {},
   "outputs": [
    {
     "data": {
      "text/html": [
       "<div>\n",
       "<style scoped>\n",
       "    .dataframe tbody tr th:only-of-type {\n",
       "        vertical-align: middle;\n",
       "    }\n",
       "\n",
       "    .dataframe tbody tr th {\n",
       "        vertical-align: top;\n",
       "    }\n",
       "\n",
       "    .dataframe thead th {\n",
       "        text-align: right;\n",
       "    }\n",
       "</style>\n",
       "<table border=\"1\" class=\"dataframe\">\n",
       "  <thead>\n",
       "    <tr style=\"text-align: right;\">\n",
       "      <th></th>\n",
       "      <th>ResponseId</th>\n",
       "      <th>StartDate</th>\n",
       "      <th>resp_yob</th>\n",
       "      <th>resp_sex</th>\n",
       "      <th>resp_hispanic</th>\n",
       "      <th>r_race</th>\n",
       "      <th>resp_nativity</th>\n",
       "      <th>ZIP</th>\n",
       "      <th>resp_hhsize</th>\n",
       "      <th>r_working</th>\n",
       "      <th>...</th>\n",
       "      <th>State_Government_Response_Index_06172020</th>\n",
       "      <th>State_Government_Response_Index_11192020</th>\n",
       "      <th>winning_pres_candidate</th>\n",
       "      <th>winning_pres_party</th>\n",
       "      <th>total_candidatevotes</th>\n",
       "      <th>winning_pres_candidate_percentage</th>\n",
       "      <th>biden_percentage_won</th>\n",
       "      <th>trump_percentage_won</th>\n",
       "      <th>CD_PERCENT_DEMOCRAT</th>\n",
       "      <th>CD_PERCENT_REPUBLICAN</th>\n",
       "    </tr>\n",
       "  </thead>\n",
       "  <tbody>\n",
       "    <tr>\n",
       "      <th>0</th>\n",
       "      <td>R_10ARlAAmJ8eGNJb</td>\n",
       "      <td>2020-06-18 21:18:16</td>\n",
       "      <td>1996</td>\n",
       "      <td>Female</td>\n",
       "      <td>No</td>\n",
       "      <td>White</td>\n",
       "      <td>The United States</td>\n",
       "      <td>80011</td>\n",
       "      <td>1</td>\n",
       "      <td>Working</td>\n",
       "      <td>...</td>\n",
       "      <td>65.89</td>\n",
       "      <td>65.89</td>\n",
       "      <td>JOSEPH R BIDEN JR</td>\n",
       "      <td>DEMOCRAT</td>\n",
       "      <td>213607.0</td>\n",
       "      <td>60.998678</td>\n",
       "      <td>60.998678</td>\n",
       "      <td>36.358989</td>\n",
       "      <td>0.570877</td>\n",
       "      <td>0.399550</td>\n",
       "    </tr>\n",
       "    <tr>\n",
       "      <th>4</th>\n",
       "      <td>R_yrmrreDsETFkB3j</td>\n",
       "      <td>2020-06-18 21:18:03</td>\n",
       "      <td>1999</td>\n",
       "      <td>Female</td>\n",
       "      <td>No</td>\n",
       "      <td>Asian</td>\n",
       "      <td>The United States</td>\n",
       "      <td>28690</td>\n",
       "      <td>1</td>\n",
       "      <td>Working</td>\n",
       "      <td>...</td>\n",
       "      <td>62.24</td>\n",
       "      <td>62.24</td>\n",
       "      <td>DONALD J TRUMP</td>\n",
       "      <td>REPUBLICAN</td>\n",
       "      <td>31019.0</td>\n",
       "      <td>69.546209</td>\n",
       "      <td>29.411237</td>\n",
       "      <td>69.546209</td>\n",
       "      <td>0.423439</td>\n",
       "      <td>0.545049</td>\n",
       "    </tr>\n",
       "    <tr>\n",
       "      <th>36</th>\n",
       "      <td>R_1Cg41joJbGmfLZY</td>\n",
       "      <td>2020-06-18 21:17:47</td>\n",
       "      <td>1957</td>\n",
       "      <td>Female</td>\n",
       "      <td>No</td>\n",
       "      <td>White</td>\n",
       "      <td>The United States</td>\n",
       "      <td>27525</td>\n",
       "      <td>2</td>\n",
       "      <td>Not Working</td>\n",
       "      <td>...</td>\n",
       "      <td>62.24</td>\n",
       "      <td>62.24</td>\n",
       "      <td>DONALD J TRUMP</td>\n",
       "      <td>REPUBLICAN</td>\n",
       "      <td>20901.0</td>\n",
       "      <td>55.958341</td>\n",
       "      <td>42.512918</td>\n",
       "      <td>55.958341</td>\n",
       "      <td>0.629636</td>\n",
       "      <td>0.348331</td>\n",
       "    </tr>\n",
       "    <tr>\n",
       "      <th>100</th>\n",
       "      <td>R_3GqsAghFdoaefdi</td>\n",
       "      <td>2020-06-18 21:18:39</td>\n",
       "      <td>1997</td>\n",
       "      <td>Male</td>\n",
       "      <td>No</td>\n",
       "      <td>White</td>\n",
       "      <td>The United States</td>\n",
       "      <td>02356</td>\n",
       "      <td>1</td>\n",
       "      <td>Working</td>\n",
       "      <td>...</td>\n",
       "      <td>65.10</td>\n",
       "      <td>65.10</td>\n",
       "      <td>JOSEPH R BIDEN JR</td>\n",
       "      <td>DEMOCRAT</td>\n",
       "      <td>153377.0</td>\n",
       "      <td>54.511949</td>\n",
       "      <td>54.511949</td>\n",
       "      <td>42.603887</td>\n",
       "      <td>0.608256</td>\n",
       "      <td>0.388723</td>\n",
       "    </tr>\n",
       "    <tr>\n",
       "      <th>104</th>\n",
       "      <td>R_1EgjM9kkIqpTpqk</td>\n",
       "      <td>2020-06-18 21:18:48</td>\n",
       "      <td>1996</td>\n",
       "      <td>Male</td>\n",
       "      <td>No</td>\n",
       "      <td>White</td>\n",
       "      <td>The United States</td>\n",
       "      <td>77580</td>\n",
       "      <td>1</td>\n",
       "      <td>Working</td>\n",
       "      <td>...</td>\n",
       "      <td>49.48</td>\n",
       "      <td>49.48</td>\n",
       "      <td>DONALD J TRUMP</td>\n",
       "      <td>REPUBLICAN</td>\n",
       "      <td>17353.0</td>\n",
       "      <td>80.145021</td>\n",
       "      <td>18.460188</td>\n",
       "      <td>80.145021</td>\n",
       "      <td>0.242665</td>\n",
       "      <td>0.736119</td>\n",
       "    </tr>\n",
       "    <tr>\n",
       "      <th>...</th>\n",
       "      <td>...</td>\n",
       "      <td>...</td>\n",
       "      <td>...</td>\n",
       "      <td>...</td>\n",
       "      <td>...</td>\n",
       "      <td>...</td>\n",
       "      <td>...</td>\n",
       "      <td>...</td>\n",
       "      <td>...</td>\n",
       "      <td>...</td>\n",
       "      <td>...</td>\n",
       "      <td>...</td>\n",
       "      <td>...</td>\n",
       "      <td>...</td>\n",
       "      <td>...</td>\n",
       "      <td>...</td>\n",
       "      <td>...</td>\n",
       "      <td>...</td>\n",
       "      <td>...</td>\n",
       "      <td>...</td>\n",
       "      <td>...</td>\n",
       "    </tr>\n",
       "    <tr>\n",
       "      <th>167885</th>\n",
       "      <td>R_2dfH4R5YdR9Nh2W</td>\n",
       "      <td>2021-05-26 13:45:51</td>\n",
       "      <td>1983</td>\n",
       "      <td>Male</td>\n",
       "      <td>No</td>\n",
       "      <td>White</td>\n",
       "      <td>The United States</td>\n",
       "      <td>30101</td>\n",
       "      <td>3</td>\n",
       "      <td>Working</td>\n",
       "      <td>...</td>\n",
       "      <td>NaN</td>\n",
       "      <td>NaN</td>\n",
       "      <td>NaN</td>\n",
       "      <td>NaN</td>\n",
       "      <td>NaN</td>\n",
       "      <td>NaN</td>\n",
       "      <td>NaN</td>\n",
       "      <td>NaN</td>\n",
       "      <td>NaN</td>\n",
       "      <td>NaN</td>\n",
       "    </tr>\n",
       "    <tr>\n",
       "      <th>167886</th>\n",
       "      <td>R_3G0RIc556HS65Y5</td>\n",
       "      <td>2021-05-26 14:25:26</td>\n",
       "      <td>1985</td>\n",
       "      <td>Male</td>\n",
       "      <td>No</td>\n",
       "      <td>White</td>\n",
       "      <td>The United States</td>\n",
       "      <td>30339</td>\n",
       "      <td>2</td>\n",
       "      <td>Working</td>\n",
       "      <td>...</td>\n",
       "      <td>NaN</td>\n",
       "      <td>NaN</td>\n",
       "      <td>NaN</td>\n",
       "      <td>NaN</td>\n",
       "      <td>NaN</td>\n",
       "      <td>NaN</td>\n",
       "      <td>NaN</td>\n",
       "      <td>NaN</td>\n",
       "      <td>NaN</td>\n",
       "      <td>NaN</td>\n",
       "    </tr>\n",
       "    <tr>\n",
       "      <th>167887</th>\n",
       "      <td>R_2hL2c0J6jveA1wd</td>\n",
       "      <td>2021-05-26 17:48:09</td>\n",
       "      <td>1982</td>\n",
       "      <td>Male</td>\n",
       "      <td>No</td>\n",
       "      <td>Asian</td>\n",
       "      <td>Another country</td>\n",
       "      <td>1545</td>\n",
       "      <td>3</td>\n",
       "      <td>Working</td>\n",
       "      <td>...</td>\n",
       "      <td>NaN</td>\n",
       "      <td>NaN</td>\n",
       "      <td>NaN</td>\n",
       "      <td>NaN</td>\n",
       "      <td>NaN</td>\n",
       "      <td>NaN</td>\n",
       "      <td>NaN</td>\n",
       "      <td>NaN</td>\n",
       "      <td>NaN</td>\n",
       "      <td>NaN</td>\n",
       "    </tr>\n",
       "    <tr>\n",
       "      <th>167888</th>\n",
       "      <td>R_1q21nl5RsYQJxJu</td>\n",
       "      <td>2021-05-26 17:59:11</td>\n",
       "      <td>1967</td>\n",
       "      <td>Male</td>\n",
       "      <td>No</td>\n",
       "      <td>Black</td>\n",
       "      <td>The United States</td>\n",
       "      <td>2368</td>\n",
       "      <td>4</td>\n",
       "      <td>Not Working</td>\n",
       "      <td>...</td>\n",
       "      <td>NaN</td>\n",
       "      <td>NaN</td>\n",
       "      <td>NaN</td>\n",
       "      <td>NaN</td>\n",
       "      <td>NaN</td>\n",
       "      <td>NaN</td>\n",
       "      <td>NaN</td>\n",
       "      <td>NaN</td>\n",
       "      <td>NaN</td>\n",
       "      <td>NaN</td>\n",
       "    </tr>\n",
       "    <tr>\n",
       "      <th>167889</th>\n",
       "      <td>R_3LXR7ok4yurdCMN</td>\n",
       "      <td>2021-05-26 21:03:26</td>\n",
       "      <td>2000</td>\n",
       "      <td>Male</td>\n",
       "      <td>Yes</td>\n",
       "      <td>White</td>\n",
       "      <td>The United States</td>\n",
       "      <td>85032</td>\n",
       "      <td>3</td>\n",
       "      <td>Working</td>\n",
       "      <td>...</td>\n",
       "      <td>NaN</td>\n",
       "      <td>NaN</td>\n",
       "      <td>NaN</td>\n",
       "      <td>NaN</td>\n",
       "      <td>NaN</td>\n",
       "      <td>NaN</td>\n",
       "      <td>NaN</td>\n",
       "      <td>NaN</td>\n",
       "      <td>NaN</td>\n",
       "      <td>NaN</td>\n",
       "    </tr>\n",
       "  </tbody>\n",
       "</table>\n",
       "<p>17067 rows × 112 columns</p>\n",
       "</div>"
      ],
      "text/plain": [
       "               ResponseId            StartDate  resp_yob resp_sex  \\\n",
       "0       R_10ARlAAmJ8eGNJb  2020-06-18 21:18:16      1996   Female   \n",
       "4       R_yrmrreDsETFkB3j  2020-06-18 21:18:03      1999   Female   \n",
       "36      R_1Cg41joJbGmfLZY  2020-06-18 21:17:47      1957   Female   \n",
       "100     R_3GqsAghFdoaefdi  2020-06-18 21:18:39      1997     Male   \n",
       "104     R_1EgjM9kkIqpTpqk  2020-06-18 21:18:48      1996     Male   \n",
       "...                   ...                  ...       ...      ...   \n",
       "167885  R_2dfH4R5YdR9Nh2W  2021-05-26 13:45:51      1983     Male   \n",
       "167886  R_3G0RIc556HS65Y5  2021-05-26 14:25:26      1985     Male   \n",
       "167887  R_2hL2c0J6jveA1wd  2021-05-26 17:48:09      1982     Male   \n",
       "167888  R_1q21nl5RsYQJxJu  2021-05-26 17:59:11      1967     Male   \n",
       "167889  R_3LXR7ok4yurdCMN  2021-05-26 21:03:26      2000     Male   \n",
       "\n",
       "       resp_hispanic r_race      resp_nativity    ZIP  resp_hhsize  \\\n",
       "0                 No  White  The United States  80011            1   \n",
       "4                 No  Asian  The United States  28690            1   \n",
       "36                No  White  The United States  27525            2   \n",
       "100               No  White  The United States  02356            1   \n",
       "104               No  White  The United States  77580            1   \n",
       "...              ...    ...                ...    ...          ...   \n",
       "167885            No  White  The United States  30101            3   \n",
       "167886            No  White  The United States  30339            2   \n",
       "167887            No  Asian    Another country   1545            3   \n",
       "167888            No  Black  The United States   2368            4   \n",
       "167889           Yes  White  The United States  85032            3   \n",
       "\n",
       "          r_working  ... State_Government_Response_Index_06172020  \\\n",
       "0           Working  ...                                    65.89   \n",
       "4           Working  ...                                    62.24   \n",
       "36      Not Working  ...                                    62.24   \n",
       "100         Working  ...                                    65.10   \n",
       "104         Working  ...                                    49.48   \n",
       "...             ...  ...                                      ...   \n",
       "167885      Working  ...                                      NaN   \n",
       "167886      Working  ...                                      NaN   \n",
       "167887      Working  ...                                      NaN   \n",
       "167888  Not Working  ...                                      NaN   \n",
       "167889      Working  ...                                      NaN   \n",
       "\n",
       "       State_Government_Response_Index_11192020  winning_pres_candidate  \\\n",
       "0                                         65.89       JOSEPH R BIDEN JR   \n",
       "4                                         62.24          DONALD J TRUMP   \n",
       "36                                        62.24          DONALD J TRUMP   \n",
       "100                                       65.10       JOSEPH R BIDEN JR   \n",
       "104                                       49.48          DONALD J TRUMP   \n",
       "...                                         ...                     ...   \n",
       "167885                                      NaN                     NaN   \n",
       "167886                                      NaN                     NaN   \n",
       "167887                                      NaN                     NaN   \n",
       "167888                                      NaN                     NaN   \n",
       "167889                                      NaN                     NaN   \n",
       "\n",
       "       winning_pres_party total_candidatevotes  \\\n",
       "0                DEMOCRAT             213607.0   \n",
       "4              REPUBLICAN              31019.0   \n",
       "36             REPUBLICAN              20901.0   \n",
       "100              DEMOCRAT             153377.0   \n",
       "104            REPUBLICAN              17353.0   \n",
       "...                   ...                  ...   \n",
       "167885                NaN                  NaN   \n",
       "167886                NaN                  NaN   \n",
       "167887                NaN                  NaN   \n",
       "167888                NaN                  NaN   \n",
       "167889                NaN                  NaN   \n",
       "\n",
       "       winning_pres_candidate_percentage biden_percentage_won  \\\n",
       "0                              60.998678            60.998678   \n",
       "4                              69.546209            29.411237   \n",
       "36                             55.958341            42.512918   \n",
       "100                            54.511949            54.511949   \n",
       "104                            80.145021            18.460188   \n",
       "...                                  ...                  ...   \n",
       "167885                               NaN                  NaN   \n",
       "167886                               NaN                  NaN   \n",
       "167887                               NaN                  NaN   \n",
       "167888                               NaN                  NaN   \n",
       "167889                               NaN                  NaN   \n",
       "\n",
       "       trump_percentage_won CD_PERCENT_DEMOCRAT CD_PERCENT_REPUBLICAN  \n",
       "0                 36.358989            0.570877              0.399550  \n",
       "4                 69.546209            0.423439              0.545049  \n",
       "36                55.958341            0.629636              0.348331  \n",
       "100               42.603887            0.608256              0.388723  \n",
       "104               80.145021            0.242665              0.736119  \n",
       "...                     ...                 ...                   ...  \n",
       "167885                  NaN                 NaN                   NaN  \n",
       "167886                  NaN                 NaN                   NaN  \n",
       "167887                  NaN                 NaN                   NaN  \n",
       "167888                  NaN                 NaN                   NaN  \n",
       "167889                  NaN                 NaN                   NaN  \n",
       "\n",
       "[17067 rows x 112 columns]"
      ]
     },
     "execution_count": 20,
     "metadata": {},
     "output_type": "execute_result"
    }
   ],
   "source": [
    "BICS_ZIP_FEATURES = pd.merge(all_waves, ZIP_FEATURES, on = \"ZIP\", how = \"left\")\n",
    "BICS_ZIP_FEATURES = BICS_ZIP_FEATURES.drop_duplicates(subset='ResponseId', keep='first')\n",
    "BICS_ZIP_FEATURES"
   ]
  },
  {
   "cell_type": "code",
   "execution_count": 21,
   "id": "06e9f5d3",
   "metadata": {},
   "outputs": [
    {
     "data": {
      "text/plain": [
       "political_party\n",
       "Democrat                7361\n",
       "Republican              4814\n",
       "Independent             3968\n",
       "Prefer not to answer     924\n",
       "Name: count, dtype: int64"
      ]
     },
     "execution_count": 21,
     "metadata": {},
     "output_type": "execute_result"
    }
   ],
   "source": [
    "BICS_ZIP_FEATURES['political_party'].value_counts()"
   ]
  },
  {
   "cell_type": "code",
   "execution_count": 22,
   "id": "4081ad50",
   "metadata": {},
   "outputs": [
    {
     "name": "stdout",
     "output_type": "stream",
     "text": [
      "             political_party CONGRESSPERSON_PARTY  \\\n",
      "0       Prefer not to answer           Democratic   \n",
      "4                Independent           Republican   \n",
      "36               Independent           Republican   \n",
      "100              Independent           Democratic   \n",
      "104              Independent           Republican   \n",
      "...                      ...                  ...   \n",
      "167885              Democrat                  NaN   \n",
      "167886           Independent                  NaN   \n",
      "167887  Prefer not to answer                  NaN   \n",
      "167888              Democrat                  NaN   \n",
      "167889            Republican                  NaN   \n",
      "\n",
      "                            political_party_to_CD  \n",
      "0       Prefer not to answer in Democratic led CD  \n",
      "4                Independent in Republican led CD  \n",
      "36               Independent in Republican led CD  \n",
      "100              Independent in Democratic led CD  \n",
      "104              Independent in Republican led CD  \n",
      "...                                           ...  \n",
      "167885                     Democrat in nan led CD  \n",
      "167886                  Independent in nan led CD  \n",
      "167887         Prefer not to answer in nan led CD  \n",
      "167888                     Democrat in nan led CD  \n",
      "167889                   Republican in nan led CD  \n",
      "\n",
      "[17067 rows x 3 columns]\n"
     ]
    }
   ],
   "source": [
    "BICS_ZIP_FEATURES['political_party_to_CD'] = BICS_ZIP_FEATURES.apply(\n",
    "    lambda row: str(row['political_party']) + \" in \" + str(row['CONGRESSPERSON_PARTY']) + \" led CD\", axis=1\n",
    ")\n",
    "\n",
    "# Print the updated DataFrame\n",
    "print(BICS_ZIP_FEATURES[['political_party', 'CONGRESSPERSON_PARTY', 'political_party_to_CD']])"
   ]
  },
  {
   "cell_type": "code",
   "execution_count": 23,
   "id": "173187c0",
   "metadata": {},
   "outputs": [
    {
     "data": {
      "text/plain": [
       "political_party\n",
       "Democrat                7361\n",
       "Republican              4814\n",
       "Independent             3968\n",
       "Prefer not to answer     924\n",
       "Name: count, dtype: int64"
      ]
     },
     "execution_count": 23,
     "metadata": {},
     "output_type": "execute_result"
    }
   ],
   "source": [
    "BICS_ZIP_FEATURES['political_party'].value_counts()"
   ]
  },
  {
   "cell_type": "code",
   "execution_count": 24,
   "id": "7b97e85a",
   "metadata": {},
   "outputs": [],
   "source": [
    "BICS_ZIP_FEATURES['CONGRESSPERSON_PARTY'] = BICS_ZIP_FEATURES['CONGRESSPERSON_PARTY'].replace(\"Democratic\", \"Democrat\")\n",
    "BICS_ZIP_FEATURES['In_Opposing_Party_CD'] = (BICS_ZIP_FEATURES['political_party'] != BICS_ZIP_FEATURES['CONGRESSPERSON_PARTY']).astype(int)\n",
    "BICS_ZIP_FEATURES['Independent'] = (BICS_ZIP_FEATURES['political_party'] == \"Independent\").astype(int)\n",
    "BICS_ZIP_FEATURES['Vaccinated'] = BICS_ZIP_FEATURES['covid19_vax'].apply(\n",
    "    lambda x: 1 if x == \"Yes, I have received at least one dose of a vaccine\" else\n",
    "              (0 if x == \"No, I have not\" else np.nan)\n",
    ")"
   ]
  },
  {
   "cell_type": "markdown",
   "id": "c8cdc952",
   "metadata": {},
   "source": [
    "Does it make sense to drop Independents? \\\n",
    "They're kind of in their own cateogory"
   ]
  },
  {
   "cell_type": "code",
   "execution_count": 25,
   "id": "92b77586",
   "metadata": {},
   "outputs": [
    {
     "name": "stdout",
     "output_type": "stream",
     "text": [
      "In_Opposing_Party_CD\n",
      "1    12069\n",
      "0     4998\n",
      "Name: count, dtype: int64\n",
      "political_party\n",
      "Democrat                7361\n",
      "Republican              4814\n",
      "Independent             3968\n",
      "Prefer not to answer     924\n",
      "Name: count, dtype: int64\n",
      "CONGRESSPERSON_PARTY\n",
      "Democrat       7880\n",
      "Republican     3587\n",
      "Independent      10\n",
      "Libertarian       8\n",
      "Name: count, dtype: int64\n"
     ]
    }
   ],
   "source": [
    "print(BICS_ZIP_FEATURES['In_Opposing_Party_CD'].value_counts())\n",
    "print(BICS_ZIP_FEATURES['political_party'].value_counts())\n",
    "print(BICS_ZIP_FEATURES['CONGRESSPERSON_PARTY'].value_counts())"
   ]
  },
  {
   "cell_type": "markdown",
   "id": "12d52f9c",
   "metadata": {},
   "source": [
    "Below I convert the raw numbers to categories for Trump and Biden share"
   ]
  },
  {
   "cell_type": "code",
   "execution_count": 26,
   "id": "dba5e7ee",
   "metadata": {},
   "outputs": [],
   "source": [
    "BICS_ZIP_FEATURES['Categorical_Trump_County_Share'] = BICS_ZIP_FEATURES['trump_percentage_won'].apply(lambda x:\n",
    "    \"Less Than a Third\" if x < 33.1 else\n",
    "    \"Less than Two Thirds Greater Than One Third\" if x < 66.1 else\n",
    "    \"Greater than or Equal to Two thirds\" if x >= 66.1 else pd.NA\n",
    ")\n",
    "\n",
    "BICS_ZIP_FEATURES['Categorical_Biden_County_Share'] = BICS_ZIP_FEATURES['biden_percentage_won'].apply(lambda x:\n",
    "    \"Less Than a Third\" if x < 33.1 else\n",
    "    \"Less than Two Thirds Greater Than One Third\" if x < 66.1 else\n",
    "    \"Greater than or Equal to Two thirds\" if x >= 66.1 else pd.NA\n",
    ")\n",
    "\n",
    "BICS_ZIP_FEATURES['Percentage_Trump_Greater_Than_Two_Thirds'] = BICS_ZIP_FEATURES['trump_percentage_won'].apply(lambda x:\n",
    "    1 if x >= 66.1 else\n",
    "    0 if x < 66.1 else pd.NA\n",
    ")\n",
    "\n",
    "BICS_ZIP_FEATURES['Percentage_Trump_Less_Than_Two_Thirds'] = BICS_ZIP_FEATURES['trump_percentage_won'].apply(lambda x:\n",
    "    1 if x < 66.1 else\n",
    "    0 if x <= 66.1 else pd.NA\n",
    ")\n",
    "\n",
    "BICS_ZIP_FEATURES['Percentage_Biden_Greater_Than_Two_Thirds'] = BICS_ZIP_FEATURES['biden_percentage_won'].apply(lambda x:\n",
    "    1 if x >= 66.1 else\n",
    "    0 if x < 66.1 else pd.NA\n",
    ")\n",
    "\n",
    "BICS_ZIP_FEATURES['Percentage_Biden_Less_Than_Two_Thirds'] = BICS_ZIP_FEATURES['biden_percentage_won'].apply(lambda x:\n",
    "    1 if x < 66.1 else\n",
    "    0 if x <= 66.1 else pd.NA\n",
    ")"
   ]
  },
  {
   "cell_type": "markdown",
   "id": "f7cfa0f1",
   "metadata": {},
   "source": [
    "Next, I use the same logic to create the CD categoricals"
   ]
  },
  {
   "cell_type": "code",
   "execution_count": 27,
   "id": "3172e9d2",
   "metadata": {},
   "outputs": [
    {
     "data": {
      "text/plain": [
       "Categorical_Repub_CD_County_Share\n",
       "Two Quarters                               4773\n",
       "Three Quarters                             3242\n",
       "Less Than a Quarter                        2179\n",
       "Greater than or Equal to Three Quarters     260\n",
       "Name: count, dtype: int64"
      ]
     },
     "execution_count": 27,
     "metadata": {},
     "output_type": "execute_result"
    }
   ],
   "source": [
    "BICS_ZIP_FEATURES['Categorical_Repub_CD_County_Share'] = BICS_ZIP_FEATURES['CD_PERCENT_REPUBLICAN'].apply(lambda x:\n",
    "    \"Less Than a Quarter\" if x < .25 else\n",
    "    \"Two Quarters\" if x < .50 and x >.25 else\n",
    "    \"Three Quarters\" if x < .75 and x > .50 else\n",
    "    \"Greater than or Equal to Three Quarters\" if x >= .75 else pd.NA\n",
    ")\n",
    "\n",
    "BICS_ZIP_FEATURES['Categorical_Dem_CD_County_Share'] = BICS_ZIP_FEATURES['CD_PERCENT_DEMOCRAT'].apply(lambda x:\n",
    "    \"Less Than a Quarter\" if x < .25 else\n",
    "    \"Two Quarters\" if x < .50 else\n",
    "    \"Three Quarters\" if x < .75 else\n",
    "    \"Greater than or Equal to Three Quarters\" if x >= .75 else pd.NA\n",
    ")\n",
    "\n",
    "BICS_ZIP_FEATURES['Categorical_Repub_CD_County_Share'].value_counts()"
   ]
  },
  {
   "cell_type": "markdown",
   "id": "caae8348",
   "metadata": {},
   "source": [
    "Next, let's add a variable that treats urban and rural as a binary. \\\n",
    "1 = Metro - Counties in metro areas of 1 million population or more \\\n",
    "2 = Metro - Counties in metro areas of 250,000 to 1 million population \\         \n",
    "3 = Metro - Counties in metro areas of fewer than 250,000 population \\\n",
    "4 = Nonmetro - Urban population of 20,000 or more, adjacent to a metro area \\\n",
    "5 = Nonmetro - Urban population of 20,000 or more, not adjacent to a metro area \\\n",
    "6 = Nonmetro - Urban population of 2,500 to 19,999, adjacent to a metro area \\\n",
    "7 = Nonmetro - Urban population of 2,500 to 19,999, not adjacent to a metro area \\\n",
    "8 = Nonmetro - Completely rural or less than 2,500 urban population, adjacent to a metro area \\\n",
    "9 = Nonmetro - Completely rural or less than 2,500 urban population, not adjacent to a metro area"
   ]
  },
  {
   "cell_type": "code",
   "execution_count": 28,
   "id": "c9e0f267",
   "metadata": {},
   "outputs": [],
   "source": [
    "BICS_ZIP_FEATURES['COUNT_RUCC_CAT'] = BICS_ZIP_FEATURES['COUNTY_RUCC_2013'].apply(\n",
    "    lambda x: \"Urban Metro\" if x in [1, 2] else\n",
    "              \"Urban Nonmetro\" if x in list(range(3, 8)) else \n",
    "              \"Rural\" if x in [8, 9] else np.nan\n",
    ")\n",
    "\n",
    "BICS_ZIP_FEATURES['COUNT_RUCC_BINARY'] = BICS_ZIP_FEATURES['COUNTY_RUCC_2013'].apply(\n",
    "    lambda x: \"Urban\" if x in list(range(1, 8)) else  \n",
    "              \"Rural\" if x in [8, 9] else np.nan\n",
    ")"
   ]
  },
  {
   "cell_type": "code",
   "execution_count": 29,
   "id": "09cb0f10",
   "metadata": {},
   "outputs": [],
   "source": [
    "BICS_ZIP_FEATURES.to_csv('data/BICS_ZIP_Features.csv',index=False)"
   ]
  },
  {
   "cell_type": "code",
   "execution_count": 30,
   "id": "1233a1a5",
   "metadata": {},
   "outputs": [],
   "source": [
    "BICS_ZIP_FEATURES.to_csv('data/Partisanship and Health Behavior/Data/BICS_ZIP_Features.csv',index=False)"
   ]
  }
 ],
 "metadata": {
  "kernelspec": {
   "display_name": "Python 3 (ipykernel)",
   "language": "python",
   "name": "python3"
  },
  "language_info": {
   "codemirror_mode": {
    "name": "ipython",
    "version": 3
   },
   "file_extension": ".py",
   "mimetype": "text/x-python",
   "name": "python",
   "nbconvert_exporter": "python",
   "pygments_lexer": "ipython3",
   "version": "3.11.5"
  }
 },
 "nbformat": 4,
 "nbformat_minor": 5
}
